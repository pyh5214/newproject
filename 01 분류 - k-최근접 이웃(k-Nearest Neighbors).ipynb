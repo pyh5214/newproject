{
 "cells": [
  {
   "cell_type": "markdown",
   "id": "fca31c65",
   "metadata": {},
   "source": [
    "## k-최근접 이웃 알고리즘\n",
    "- 지도학습 알고리즘 중 하나이다.\n",
    "- 굉장히 직관적이고 간단한 알고리즘이다.\n",
    "- 어떤 데이터가 주어지면 그 주변(이웃)의 데이터를 살펴본 뒤 많은 데이터가 포함되어 있는 범주로 분류하는 방식이다.\n",
    "- knn의 특징은 훈련이 따로 필요 없다는 것이다. 다른 모델들은 fit(x_train, y_train)의 코드를 통해 훈련을 시킨다. 즉, 훈련데이터를 기반으로 모델을 만들고 테스트 데이터로 테스트하는 방식이지만 knn은 훈련데이터를 저장하는게 훈련의 전부이다.\n",
    "- 모델을 별도로 구축하지 않는다는 뜻으로 게으른 모델(Lazy model)이라고 부른다."
   ]
  },
  {
   "cell_type": "markdown",
   "id": "a504fbd4",
   "metadata": {},
   "source": [
    "## 필요한 패키지 로딩"
   ]
  },
  {
   "cell_type": "code",
   "execution_count": 1,
   "id": "91bf88a0",
   "metadata": {},
   "outputs": [],
   "source": [
    "import numpy as np\n",
    "import pandas as pd\n",
    "import matplotlib.pyplot as plt\n",
    "\n",
    "%matplotlib inline"
   ]
  },
  {
   "cell_type": "code",
   "execution_count": 2,
   "id": "6bb2d7c3",
   "metadata": {},
   "outputs": [],
   "source": [
    "import matplotlib as mpl\n",
    "\n",
    "mpl.rcParams['font.family'] ='D2coding' # 원하는 글꼴\n",
    "mpl.rcParams['axes.unicode_minus'] =False"
   ]
  },
  {
   "cell_type": "markdown",
   "id": "7cb08fb4",
   "metadata": {},
   "source": [
    "### 데이터셋 로딩"
   ]
  },
  {
   "cell_type": "code",
   "execution_count": 3,
   "id": "3bfab36d",
   "metadata": {},
   "outputs": [],
   "source": [
    "## 도미의 관측 데이터셋\n",
    "# 도미 길이\n",
    "bream_length = [25.4, 26.3, 26.5, 29.0, 29.0, 29.7, 29.7, 30.0, 30.0, 30.7, 31.0, 31.0, \n",
    "                31.5, 32.0, 32.0, 32.0, 33.0, 33.0, 33.5, 33.5, 34.0, 34.0, 34.5, 35.0, \n",
    "                35.0, 35.0, 35.0, 36.0, 36.0, 37.0, 38.5, 38.5, 39.5, 41.0, 41.0]\n",
    "## 도미 무게\n",
    "bream_weight = [242.0, 290.0, 340.0, 363.0, 430.0, 450.0, 500.0, 390.0, 450.0, 500.0, 475.0, 500.0, \n",
    "                500.0, 340.0, 600.0, 600.0, 700.0, 700.0, 610.0, 650.0, 575.0, 685.0, 620.0, 680.0, \n",
    "                700.0, 725.0, 720.0, 714.0, 850.0, 1000.0, 920.0, 955.0, 925.0, 975.0, 950.0]\n"
   ]
  },
  {
   "cell_type": "code",
   "execution_count": 4,
   "id": "642b33df",
   "metadata": {},
   "outputs": [
    {
     "data": {
      "image/png": "[encoded data removed]",
      "text/plain": [
       "<Figure size 432x288 with 1 Axes>"
      ]
     },
     "metadata": {
      "needs_background": "light"
     },
     "output_type": "display_data"
    }
   ],
   "source": [
    "# 길이를 x, 무게를 y\n",
    "plt.scatter(bream_length, bream_weight)\n",
    "plt.xlabel('length')\n",
    "plt.ylabel('weight')\n",
    "\n",
    "plt.title('도미')\n",
    "plt.show()"
   ]
  },
  {
   "cell_type": "code",
   "execution_count": 5,
   "id": "bc8f7548",
   "metadata": {},
   "outputs": [],
   "source": [
    "## 빙어 관측 데이터셋\n",
    "# 빙어 길이\n",
    "smelt_length = [9.8, 10.5, 10.6, 11.0, 11.2, 11.3, 11.8, 11.8, 12.0, 12.2, 12.4, 13.0, 14.3, 15.0]\n",
    "# 빙어 무게\n",
    "smelt_weight = [6.7, 7.5, 7.0, 9.7, 9.8, 8.7, 10.0, 9.9, 9.8, 12.2, 13.4, 12.2, 19.7, 19.9]"
   ]
  },
  {
   "cell_type": "code",
   "execution_count": 6,
   "id": "37b3d6dd",
   "metadata": {},
   "outputs": [
    {
     "data": {
      "image/png": "[encoded data removed]",
      "text/plain": [
       "<Figure size 432x288 with 1 Axes>"
      ]
     },
     "metadata": {
      "needs_background": "light"
     },
     "output_type": "display_data"
    }
   ],
   "source": [
    "# 길이를 x, 무게를 y\n",
    "plt.scatter(smelt_length, smelt_weight)\n",
    "plt.xlabel('length')\n",
    "plt.ylabel('weight')\n",
    "\n",
    "plt.title('빙어')\n",
    "plt.show()"
   ]
  },
  {
   "cell_type": "code",
   "execution_count": 7,
   "id": "cdd50ddf",
   "metadata": {},
   "outputs": [
    {
     "data": {
      "image/png": "[encoded data removed]",
      "text/plain": [
       "<Figure size 432x288 with 1 Axes>"
      ]
     },
     "metadata": {
      "needs_background": "light"
     },
     "output_type": "display_data"
    }
   ],
   "source": [
    "# 두개의 데이터셋을 함께 시각화\n",
    "plt.scatter(bream_length, bream_weight)\n",
    "plt.scatter(smelt_length, smelt_weight)\n",
    "plt.xlabel('length')\n",
    "plt.ylabel('weight')\n",
    "\n",
    "plt.title('도미와 빙어')\n",
    "plt.show()"
   ]
  },
  {
   "cell_type": "code",
   "execution_count": 8,
   "id": "db66848f",
   "metadata": {},
   "outputs": [],
   "source": [
    "# 머신러닝 패키지를 사용할 경우 특성을을 2차원 Numpy 배열로 만들어줘야 한다.\n",
    "length = bream_length + smelt_length\n",
    "weight = bream_weight + smelt_weight"
   ]
  },
  {
   "cell_type": "code",
   "execution_count": 9,
   "id": "c28f66b9",
   "metadata": {},
   "outputs": [],
   "source": [
    "# 2차원 배열을 생성하기 위해 zip()함수와 리스트내포를 사용한다.\n",
    "# zip() : 나열된 리스트에서 요소를 하나씩 꺼내주는 역할을 하는 함수\n",
    "fish_data = [[l, w] for l, w in zip(length, weight)]"
   ]
  },
  {
   "cell_type": "code",
   "execution_count": 10,
   "id": "b1290bc5",
   "metadata": {},
   "outputs": [
    {
     "data": {
      "text/plain": [
       "35"
      ]
     },
     "execution_count": 10,
     "metadata": {},
     "output_type": "execute_result"
    }
   ],
   "source": [
    "len(bream_weight)"
   ]
  },
  {
   "cell_type": "code",
   "execution_count": 11,
   "id": "3aa52226",
   "metadata": {},
   "outputs": [
    {
     "data": {
      "text/plain": [
       "14"
      ]
     },
     "execution_count": 11,
     "metadata": {},
     "output_type": "execute_result"
    }
   ],
   "source": [
    "len(smelt_weight)"
   ]
  },
  {
   "cell_type": "code",
   "execution_count": 12,
   "id": "2888bb2a",
   "metadata": {},
   "outputs": [],
   "source": [
    "# 도미(1), 빙어(0)\n",
    "# 머신에서 찾고자 하는 것에 1을 나머지는 0으로 둔다\n",
    "fish_target = [1] * 35 + [0] * 14"
   ]
  },
  {
   "cell_type": "markdown",
   "id": "c0a36e29",
   "metadata": {},
   "source": [
    "- 데이터셋의 길이 {도미 : 35, 빙어 :14}<br>\n",
    "- 도미를 구분하기 위한 '타겟'을 1과 0으로 구분하여 지정"
   ]
  },
  {
   "cell_type": "markdown",
   "id": "acce1a8e",
   "metadata": {},
   "source": [
    "### knn 알고리즘 : 2진 분류 알고리즘"
   ]
  },
  {
   "cell_type": "code",
   "execution_count": 13,
   "id": "4be4fc53",
   "metadata": {},
   "outputs": [
    {
     "data": {
      "text/plain": [
       "1.0"
      ]
     },
     "execution_count": 13,
     "metadata": {},
     "output_type": "execute_result"
    }
   ],
   "source": [
    "from sklearn.neighbors import KNeighborsClassifier\n",
    "# 인스턴스 객체 생성\n",
    "knn = KNeighborsClassifier()\n",
    "# 훈련 - 모델에 데이터를 전달하여 규칙을 학습하는 과정을 말한다.\n",
    "model = knn.fit(fish_data, fish_target)\n",
    "# 평가(정확도 검사)\n",
    "model.score(fish_data, fish_target)"
   ]
  },
  {
   "cell_type": "code",
   "execution_count": 14,
   "id": "7f858044",
   "metadata": {},
   "outputs": [
    {
     "data": {
      "text/plain": [
       "KNeighborsClassifier()"
      ]
     },
     "execution_count": 14,
     "metadata": {},
     "output_type": "execute_result"
    }
   ],
   "source": [
    "# knn 학습모델\n",
    "knn.fit(fish_data, fish_target)"
   ]
  },
  {
   "cell_type": "markdown",
   "id": "2a1f7185",
   "metadata": {},
   "source": [
    "> 학습모델 확인 KNeighborsClassifier()\n",
    "\n",
    "***KNeighborsClassifier(<br>\n",
    "algorithm='auto', leaf_size=30, metric='minkowski',            \n",
    "metric_params=None, n_jobs=None, n_neighbors=5, p=2, \n",
    "        weights='uniform'<br> \n",
    "                              )***\n",
    "\n",
    "- n_neighbors : 근접한 이웃의 수(k)\n",
    "- p : 1(맨해튼 거리), 2(유클리드안 거리)\n",
    "- weights : 가중치\n",
    "\n",
    "**k-최근접 모델은 가장 최적의 'k'값을 찾아내는 것이 목표!**"
   ]
  },
  {
   "cell_type": "code",
   "execution_count": 15,
   "id": "694f39d9",
   "metadata": {},
   "outputs": [
    {
     "data": {
      "text/plain": [
       "array([1])"
      ]
     },
     "execution_count": 15,
     "metadata": {},
     "output_type": "execute_result"
    }
   ],
   "source": [
    "# 예측 - 새로운 데이터를 추가하여 분류하는 작업\n",
    "# 길이 - 30, 무게 600인 데이터\n",
    "knn.predict([[30, 600]])"
   ]
  },
  {
   "cell_type": "code",
   "execution_count": 16,
   "id": "0c4bf15d",
   "metadata": {},
   "outputs": [
    {
     "data": {
      "image/png": "[encoded data removed]",
      "text/plain": [
       "<Figure size 432x288 with 1 Axes>"
      ]
     },
     "metadata": {
      "needs_background": "light"
     },
     "output_type": "display_data"
    }
   ],
   "source": [
    "# 두개의 데이터셋을 함께 시각화\n",
    "plt.scatter(bream_length, bream_weight)\n",
    "plt.scatter(smelt_length, smelt_weight)\n",
    "plt.scatter(30, 600, marker = '^', color = 'red')\n",
    "\n",
    "plt.plot()\n",
    "\n",
    "plt.xlabel('length')\n",
    "plt.ylabel('weight')\n",
    "\n",
    "plt.title('새로운 데이터 분류')\n",
    "plt.show()"
   ]
  },
  {
   "cell_type": "code",
   "execution_count": 17,
   "id": "040a2559",
   "metadata": {
    "scrolled": true
   },
   "outputs": [
    {
     "data": {
      "text/plain": [
       "array([[  25.4,  242. ],\n",
       "       [  26.3,  290. ],\n",
       "       [  26.5,  340. ],\n",
       "       [  29. ,  363. ],\n",
       "       [  29. ,  430. ],\n",
       "       [  29.7,  450. ],\n",
       "       [  29.7,  500. ],\n",
       "       [  30. ,  390. ],\n",
       "       [  30. ,  450. ],\n",
       "       [  30.7,  500. ],\n",
       "       [  31. ,  475. ],\n",
       "       [  31. ,  500. ],\n",
       "       [  31.5,  500. ],\n",
       "       [  32. ,  340. ],\n",
       "       [  32. ,  600. ],\n",
       "       [  32. ,  600. ],\n",
       "       [  33. ,  700. ],\n",
       "       [  33. ,  700. ],\n",
       "       [  33.5,  610. ],\n",
       "       [  33.5,  650. ],\n",
       "       [  34. ,  575. ],\n",
       "       [  34. ,  685. ],\n",
       "       [  34.5,  620. ],\n",
       "       [  35. ,  680. ],\n",
       "       [  35. ,  700. ],\n",
       "       [  35. ,  725. ],\n",
       "       [  35. ,  720. ],\n",
       "       [  36. ,  714. ],\n",
       "       [  36. ,  850. ],\n",
       "       [  37. , 1000. ],\n",
       "       [  38.5,  920. ],\n",
       "       [  38.5,  955. ],\n",
       "       [  39.5,  925. ],\n",
       "       [  41. ,  975. ],\n",
       "       [  41. ,  950. ],\n",
       "       [   9.8,    6.7],\n",
       "       [  10.5,    7.5],\n",
       "       [  10.6,    7. ],\n",
       "       [  11. ,    9.7],\n",
       "       [  11.2,    9.8],\n",
       "       [  11.3,    8.7],\n",
       "       [  11.8,   10. ],\n",
       "       [  11.8,    9.9],\n",
       "       [  12. ,    9.8],\n",
       "       [  12.2,   12.2],\n",
       "       [  12.4,   13.4],\n",
       "       [  13. ,   12.2],\n",
       "       [  14.3,   19.7],\n",
       "       [  15. ,   19.9]])"
      ]
     },
     "execution_count": 17,
     "metadata": {},
     "output_type": "execute_result"
    }
   ],
   "source": [
    "model._fit_X"
   ]
  },
  {
   "cell_type": "code",
   "execution_count": 18,
   "id": "e6a46e61",
   "metadata": {
    "scrolled": true
   },
   "outputs": [
    {
     "data": {
      "text/plain": [
       "array([[  25.4,  242. ],\n",
       "       [  26.3,  290. ],\n",
       "       [  26.5,  340. ],\n",
       "       [  29. ,  363. ],\n",
       "       [  29. ,  430. ],\n",
       "       [  29.7,  450. ],\n",
       "       [  29.7,  500. ],\n",
       "       [  30. ,  390. ],\n",
       "       [  30. ,  450. ],\n",
       "       [  30.7,  500. ],\n",
       "       [  31. ,  475. ],\n",
       "       [  31. ,  500. ],\n",
       "       [  31.5,  500. ],\n",
       "       [  32. ,  340. ],\n",
       "       [  32. ,  600. ],\n",
       "       [  32. ,  600. ],\n",
       "       [  33. ,  700. ],\n",
       "       [  33. ,  700. ],\n",
       "       [  33.5,  610. ],\n",
       "       [  33.5,  650. ],\n",
       "       [  34. ,  575. ],\n",
       "       [  34. ,  685. ],\n",
       "       [  34.5,  620. ],\n",
       "       [  35. ,  680. ],\n",
       "       [  35. ,  700. ],\n",
       "       [  35. ,  725. ],\n",
       "       [  35. ,  720. ],\n",
       "       [  36. ,  714. ],\n",
       "       [  36. ,  850. ],\n",
       "       [  37. , 1000. ],\n",
       "       [  38.5,  920. ],\n",
       "       [  38.5,  955. ],\n",
       "       [  39.5,  925. ],\n",
       "       [  41. ,  975. ],\n",
       "       [  41. ,  950. ],\n",
       "       [   9.8,    6.7],\n",
       "       [  10.5,    7.5],\n",
       "       [  10.6,    7. ],\n",
       "       [  11. ,    9.7],\n",
       "       [  11.2,    9.8],\n",
       "       [  11.3,    8.7],\n",
       "       [  11.8,   10. ],\n",
       "       [  11.8,    9.9],\n",
       "       [  12. ,    9.8],\n",
       "       [  12.2,   12.2],\n",
       "       [  12.4,   13.4],\n",
       "       [  13. ,   12.2],\n",
       "       [  14.3,   19.7],\n",
       "       [  15. ,   19.9]])"
      ]
     },
     "execution_count": 18,
     "metadata": {},
     "output_type": "execute_result"
    }
   ],
   "source": [
    "knn._fit_X"
   ]
  },
  {
   "cell_type": "code",
   "execution_count": 19,
   "id": "276286eb",
   "metadata": {},
   "outputs": [
    {
     "data": {
      "text/plain": [
       "array([1, 1, 1, 1, 1, 1, 1, 1, 1, 1, 1, 1, 1, 1, 1, 1, 1, 1, 1, 1, 1, 1,\n",
       "       1, 1, 1, 1, 1, 1, 1, 1, 1, 1, 1, 1, 1, 0, 0, 0, 0, 0, 0, 0, 0, 0,\n",
       "       0, 0, 0, 0, 0])"
      ]
     },
     "execution_count": 19,
     "metadata": {},
     "output_type": "execute_result"
    }
   ],
   "source": [
    "model._y"
   ]
  },
  {
   "cell_type": "code",
   "execution_count": 20,
   "id": "941559f5",
   "metadata": {},
   "outputs": [
    {
     "data": {
      "text/plain": [
       "array([1, 1, 1, 1, 1, 1, 1, 1, 1, 1, 1, 1, 1, 1, 1, 1, 1, 1, 1, 1, 1, 1,\n",
       "       1, 1, 1, 1, 1, 1, 1, 1, 1, 1, 1, 1, 1, 0, 0, 0, 0, 0, 0, 0, 0, 0,\n",
       "       0, 0, 0, 0, 0])"
      ]
     },
     "execution_count": 20,
     "metadata": {},
     "output_type": "execute_result"
    }
   ],
   "source": [
    "knn._y"
   ]
  },
  {
   "cell_type": "markdown",
   "id": "ba898dcc",
   "metadata": {},
   "source": [
    "> k값을 전체(49개) 데이터셋의 갯수로 설정한다면?"
   ]
  },
  {
   "cell_type": "code",
   "execution_count": 21,
   "id": "1879d265",
   "metadata": {},
   "outputs": [
    {
     "data": {
      "text/plain": [
       "0.7142857142857143"
      ]
     },
     "execution_count": 21,
     "metadata": {},
     "output_type": "execute_result"
    }
   ],
   "source": [
    "## k값을 전체(49개) 데이터셋의 갯수로 설정한다면?\n",
    "\n",
    "kn49 = KNeighborsClassifier(n_neighbors=49)\n",
    "\n",
    "kn49.fit(fish_data, fish_target)\n",
    "kn49.score(fish_data, fish_target)"
   ]
  },
  {
   "cell_type": "code",
   "execution_count": 22,
   "id": "84270f32",
   "metadata": {},
   "outputs": [
    {
     "data": {
      "text/plain": [
       "0.7142857142857143"
      ]
     },
     "execution_count": 22,
     "metadata": {},
     "output_type": "execute_result"
    }
   ],
   "source": [
    "# 도미 데이터 수/ 전체 데이터 수\n",
    "35/ 49"
   ]
  },
  {
   "cell_type": "markdown",
   "id": "2a6560f3",
   "metadata": {},
   "source": [
    "## 훈련 데이터와 테스트 데이터"
   ]
  },
  {
   "cell_type": "code",
   "execution_count": 23,
   "id": "cab4c508",
   "metadata": {},
   "outputs": [
    {
     "name": "stdout",
     "output_type": "stream",
     "text": [
      "<class 'list'>\n",
      "<class 'list'>\n"
     ]
    }
   ],
   "source": [
    "print(type(fish_data))\n",
    "print(type(fish_target))"
   ]
  },
  {
   "cell_type": "code",
   "execution_count": 24,
   "id": "fbbdaa14",
   "metadata": {},
   "outputs": [],
   "source": [
    "# 훈련데이터 35개, 테스트데이터 14개 분리하는 작업\n",
    "train_input = fish_data[:35]\n",
    "train_target = fish_target[:35]\n",
    "test_input = fish_data[35:]\n",
    "test_target = fish_target[35:]"
   ]
  },
  {
   "cell_type": "code",
   "execution_count": 25,
   "id": "e76d606d",
   "metadata": {
    "scrolled": true
   },
   "outputs": [
    {
     "ename": "NameError",
     "evalue": "name 'train_data' is not defined",
     "output_type": "error",
     "traceback": [
      "\u001b[1;31m---------------------------------------------------------------------------\u001b[0m",
      "\u001b[1;31mNameError\u001b[0m                                 Traceback (most recent call last)",
      "\u001b[1;32m~\\AppData\\Local\\Temp/ipykernel_10596/2545070326.py\u001b[0m in \u001b[0;36m<module>\u001b[1;34m\u001b[0m\n\u001b[0;32m      1\u001b[0m \u001b[0mkn\u001b[0m \u001b[1;33m=\u001b[0m \u001b[0mKNeighborsClassifier\u001b[0m\u001b[1;33m(\u001b[0m\u001b[1;33m)\u001b[0m\u001b[1;33m\u001b[0m\u001b[1;33m\u001b[0m\u001b[0m\n\u001b[1;32m----> 2\u001b[1;33m \u001b[0mkn\u001b[0m\u001b[1;33m.\u001b[0m\u001b[0mfit\u001b[0m\u001b[1;33m(\u001b[0m\u001b[0mtrain_data\u001b[0m\u001b[1;33m,\u001b[0m \u001b[0mtrain_target\u001b[0m\u001b[1;33m)\u001b[0m\u001b[1;33m\u001b[0m\u001b[1;33m\u001b[0m\u001b[0m\n\u001b[0m\u001b[0;32m      3\u001b[0m \u001b[0mkn\u001b[0m\u001b[1;33m.\u001b[0m\u001b[0mscore\u001b[0m\u001b[1;33m(\u001b[0m\u001b[0mtest_input\u001b[0m\u001b[1;33m,\u001b[0m \u001b[0mtest_target\u001b[0m\u001b[1;33m)\u001b[0m\u001b[1;33m\u001b[0m\u001b[1;33m\u001b[0m\u001b[0m\n",
      "\u001b[1;31mNameError\u001b[0m: name 'train_data' is not defined"
     ]
    }
   ],
   "source": [
    "kn = KNeighborsClassifier()\n",
    "kn.fit(train_data, train_target)\n",
    "kn.score(test_input, test_target)"
   ]
  },
  {
   "cell_type": "code",
   "execution_count": null,
   "id": "2c39e6d6",
   "metadata": {
    "scrolled": true
   },
   "outputs": [],
   "source": [
    "# numpy 배열을 이용하여 데이터를 섞는 작업을 수행한다.\n",
    "input_arr = np.array(fish_data)\n",
    "target_arr = np.array(fish_target)\n",
    "input_arr"
   ]
  },
  {
   "cell_type": "code",
   "execution_count": null,
   "id": "e1b965d6",
   "metadata": {},
   "outputs": [],
   "source": [
    "input_arr.shape"
   ]
  },
  {
   "cell_type": "code",
   "execution_count": null,
   "id": "a52169f2",
   "metadata": {},
   "outputs": [],
   "source": [
    "target_arr.shape"
   ]
  },
  {
   "cell_type": "code",
   "execution_count": null,
   "id": "e98b197b",
   "metadata": {},
   "outputs": [],
   "source": [
    "# 주의할 점은 input과 target은 같은 위치에 함께 선택되어야 한다.\n",
    "np.random.seed(42)\n",
    "index = np.arange(49)\n",
    "\n",
    "# shuffle()\n",
    "np.random.shuffle(index)"
   ]
  },
  {
   "cell_type": "code",
   "execution_count": null,
   "id": "39dc2b22",
   "metadata": {},
   "outputs": [],
   "source": [
    "index"
   ]
  },
  {
   "cell_type": "code",
   "execution_count": null,
   "id": "97fa086e",
   "metadata": {},
   "outputs": [],
   "source": [
    "index[0]"
   ]
  },
  {
   "cell_type": "code",
   "execution_count": null,
   "id": "de79aa38",
   "metadata": {},
   "outputs": [],
   "source": [
    "train_input = input_arr[index[:35]]\n",
    "train_target = target_arr[index[:35]]\n",
    "test_input = input_arr[index[35:]]\n",
    "test_target = target_arr[index[35:]]"
   ]
  },
  {
   "cell_type": "code",
   "execution_count": null,
   "id": "33651b1c",
   "metadata": {},
   "outputs": [],
   "source": [
    "## 셔플된 값이 제대로 들어갔는지 확인!\n",
    "print(input_arr[13], train_input[0])"
   ]
  },
  {
   "cell_type": "code",
   "execution_count": null,
   "id": "3e44a68d",
   "metadata": {},
   "outputs": [],
   "source": [
    "## 파란색 : 훈련 데이터셋 , 주황색 : 테스트 데이터셋\n",
    "plt.scatter(train_input[:, 0], train_input[:, 1])\n",
    "plt.scatter(test_input[:, 0], test_input[:, 1])\n",
    "\n",
    "plt.xlabel('length')\n",
    "plt.ylabel('weight')\n",
    "\n",
    "plt.show()"
   ]
  },
  {
   "cell_type": "code",
   "execution_count": null,
   "id": "14f89056",
   "metadata": {},
   "outputs": [],
   "source": [
    "kn = KNeighborsClassifier()\n",
    "kn.fit(train_input, train_target)\n",
    "kn.score(test_input, test_target)"
   ]
  },
  {
   "cell_type": "markdown",
   "id": "0d3ef186",
   "metadata": {},
   "source": [
    "- 훈련데이터의 값이 확연히 차이가 나기때문에, 테스트 결과에서도 100퍼센트 정확도를 보인다.\n",
    "- 모델의 활용도를 의심해볼만 하다..."
   ]
  },
  {
   "cell_type": "markdown",
   "id": "192253b9",
   "metadata": {},
   "source": [
    "## 데이터 전처리(data preprocessing)"
   ]
  },
  {
   "cell_type": "code",
   "execution_count": null,
   "id": "5a5c8d36",
   "metadata": {},
   "outputs": [],
   "source": [
    "fish_length = [25.4, 26.3, 26.5, 29.0, 29.0, 29.7, 29.7, 30.0, 30.0, 30.7, 31.0, 31.0, \n",
    "                31.5, 32.0, 32.0, 32.0, 33.0, 33.0, 33.5, 33.5, 34.0, 34.0, 34.5, 35.0, \n",
    "                35.0, 35.0, 35.0, 36.0, 36.0, 37.0, 38.5, 38.5, 39.5, 41.0, 41.0, 9.8, \n",
    "                10.5, 10.6, 11.0, 11.2, 11.3, 11.8, 11.8, 12.0, 12.2, 12.4, 13.0, 14.3, 15.0]\n",
    "fish_weight = [242.0, 290.0, 340.0, 363.0, 430.0, 450.0, 500.0, 390.0, 450.0, 500.0, 475.0, 500.0, \n",
    "                500.0, 340.0, 600.0, 600.0, 700.0, 700.0, 610.0, 650.0, 575.0, 685.0, 620.0, 680.0, \n",
    "                700.0, 725.0, 720.0, 714.0, 850.0, 1000.0, 920.0, 955.0, 925.0, 975.0, 950.0, 6.7, \n",
    "                7.5, 7.0, 9.7, 9.8, 8.7, 10.0, 9.9, 9.8, 12.2, 13.4, 12.2, 19.7, 19.9]\n"
   ]
  },
  {
   "cell_type": "code",
   "execution_count": null,
   "id": "708f059b",
   "metadata": {},
   "outputs": [],
   "source": [
    "# column_stack() : 배열 결합\n",
    "np.column_stack([[1, 2, 3], [4, 5, 6]])"
   ]
  },
  {
   "cell_type": "code",
   "execution_count": null,
   "id": "3bb36a03",
   "metadata": {},
   "outputs": [],
   "source": [
    "fish_data = np.column_stack([fish_length,fish_weight])\n",
    "fish_data[:5]"
   ]
  },
  {
   "cell_type": "code",
   "execution_count": null,
   "id": "750f4a16",
   "metadata": {},
   "outputs": [],
   "source": [
    "# np.zeros(), np.ones() : 0과 1로된 배열 생성\n",
    "fish_target = np.concatenate([np.ones(35), np.zeros(14)])\n",
    "fish_target"
   ]
  },
  {
   "cell_type": "markdown",
   "id": "70be9ea5",
   "metadata": {},
   "source": [
    "### 훈련 데이터와 테스트 데이터 분리 (여기서 비교해보기)"
   ]
  },
  {
   "cell_type": "code",
   "execution_count": null,
   "id": "623fcabc",
   "metadata": {},
   "outputs": [],
   "source": [
    "from sklearn.model_selection import train_test_split"
   ]
  },
  {
   "cell_type": "code",
   "execution_count": null,
   "id": "360fdb39",
   "metadata": {},
   "outputs": [],
   "source": [
    "train_input, test_input, train_target, test_target = train_test_split(\\\n",
    "                                                                     fish_data, fish_target, random_state = 42)"
   ]
  },
  {
   "cell_type": "code",
   "execution_count": null,
   "id": "235b1cbc",
   "metadata": {},
   "outputs": [],
   "source": [
    "type(train_input)"
   ]
  },
  {
   "cell_type": "code",
   "execution_count": null,
   "id": "962e5002",
   "metadata": {},
   "outputs": [],
   "source": [
    "print(train_input.shape, test_input.shape)"
   ]
  },
  {
   "cell_type": "code",
   "execution_count": null,
   "id": "a26d13bf",
   "metadata": {},
   "outputs": [],
   "source": [
    "test_target"
   ]
  },
  {
   "cell_type": "code",
   "execution_count": null,
   "id": "dceb181a",
   "metadata": {},
   "outputs": [],
   "source": [
    "train_target, test_target, train_target, test_target = train_test_split(\\\n",
    "                                                                       fish_data, fish_target,stratify = fish_target, random_state = 42)"
   ]
  },
  {
   "cell_type": "code",
   "execution_count": null,
   "id": "6abdf9d8",
   "metadata": {},
   "outputs": [],
   "source": [
    "test_target"
   ]
  },
  {
   "cell_type": "code",
   "execution_count": null,
   "id": "c42725b4",
   "metadata": {
    "scrolled": true
   },
   "outputs": [],
   "source": [
    "kn = KNeighborsClassifier()\n",
    "kn.fit(train_input, train_target)\n",
    "kn.score(test_input, test_target)\n"
   ]
  },
  {
   "cell_type": "code",
   "execution_count": null,
   "id": "711f3f9d",
   "metadata": {},
   "outputs": [],
   "source": [
    "kn.predict([[25, 150]])"
   ]
  },
  {
   "cell_type": "code",
   "execution_count": null,
   "id": "a621c5fa",
   "metadata": {},
   "outputs": [],
   "source": [
    "## 빨간 삼각형 : 길이 25, 무게 150인 생선 데이터\n",
    "plt.scatter(train_input[:, 0], train_input[:, 1])\n",
    "plt.scatter(test_input[:, 0], test_input[:, 1])\n",
    "plt.scatter(25, 150, marker = '^', color = 'r')\n",
    "\n",
    "plt.xlabel('length')\n",
    "plt.ylabel('weight')\n",
    "\n",
    "plt.show()"
   ]
  },
  {
   "cell_type": "code",
   "execution_count": null,
   "id": "f7d130d5",
   "metadata": {},
   "outputs": [],
   "source": [
    "# kneighbors() : 이웃까지의 거리와 이웃의 샘플의 인덱스를 반환하는 함수\n",
    "distances, indexs = kn.kneighbors([[25, 150]])"
   ]
  },
  {
   "cell_type": "code",
   "execution_count": null,
   "id": "bcfaf685",
   "metadata": {},
   "outputs": [],
   "source": [
    "## 주황색 다이아 : 입력된 생선데이터와 근접한 다섯개의 점\n",
    "\n",
    "plt.scatter(train_input[:, 0], train_input[:, 1])\n",
    "plt.scatter(25, 150, marker = '^', color = 'r')\n",
    "plt.scatter(train_input[indexs, 0], train_input[indexs, 1], marker ='D')\n",
    "\n",
    "plt.xlabel('length')\n",
    "plt.ylabel('weight')\n",
    "\n",
    "plt.show()"
   ]
  },
  {
   "cell_type": "code",
   "execution_count": null,
   "id": "a1cef6fe",
   "metadata": {},
   "outputs": [],
   "source": [
    "train_input[indexs]"
   ]
  },
  {
   "cell_type": "code",
   "execution_count": null,
   "id": "e2ab64fc",
   "metadata": {},
   "outputs": [],
   "source": [
    "train_target[indexs]"
   ]
  },
  {
   "cell_type": "code",
   "execution_count": null,
   "id": "295e12b6",
   "metadata": {},
   "outputs": [],
   "source": [
    "## 근접한 점들과의 거리\n",
    "distances"
   ]
  },
  {
   "cell_type": "markdown",
   "id": "b50c1d8d",
   "metadata": {},
   "source": [
    "> 왜 시각적인 거리와 계산한 거리가 다르게 보일까??\n",
    " - x축과 y축(weight) 값의 단위가 다르므로 거리를 판단하기에 문제가 발생 => 정규화(스케일링)을 진행!"
   ]
  },
  {
   "cell_type": "code",
   "execution_count": null,
   "id": "f5ab602d",
   "metadata": {},
   "outputs": [],
   "source": [
    "## 주황색 다이아 : 입력된 생선데이터와 근접한 다섯개의 점\n",
    "\n",
    "plt.scatter(train_input[:, 0], train_input[:, 1])\n",
    "plt.scatter(25, 150, marker = '^', color = 'r')\n",
    "plt.scatter(train_input[indexs, 0], train_input[indexs, 1], marker ='D')\n",
    "\n",
    "plt.xlim(0, 1000) ## x축의 단위를 y축과 맞추었더니, y축(weight) 값에 치중되어 있음을 알 수 있음\n",
    "\n",
    "plt.xlabel('length')\n",
    "plt.ylabel('weight')\n",
    "\n",
    "plt.show()"
   ]
  },
  {
   "cell_type": "markdown",
   "id": "e681508d",
   "metadata": {},
   "source": [
    "### 피쳐 스케일링(여기서 표준화 활용)\n",
    "- 두 특성의 스케일(scale)이 다를 때, 데이터를 표현하는 기준이 다르면 알고리즘이 올바르게 예측할 수 없다\n",
    "- 최소 - 최대 정규화(min-max normalization) : X<sub>new</sub> = X-min(x) / max(x) - min(x)\n",
    "- z-점수 표준화(z-value standardization) : X<sub>new</sub> = X-mean(x) / std(x)"
   ]
  },
  {
   "cell_type": "code",
   "execution_count": null,
   "id": "70bb0fd7",
   "metadata": {},
   "outputs": [],
   "source": [
    "mean = np.mean(train_input, axis = 0)\n",
    "std = np.std(train_input, axis = 0)"
   ]
  },
  {
   "cell_type": "code",
   "execution_count": null,
   "id": "5a1391dc",
   "metadata": {},
   "outputs": [],
   "source": [
    "train_scaled = (train_input - mean) / std ##"
   ]
  },
  {
   "cell_type": "code",
   "execution_count": null,
   "id": "608fbf46",
   "metadata": {},
   "outputs": [],
   "source": [
    "mean"
   ]
  },
  {
   "cell_type": "code",
   "execution_count": null,
   "id": "0a4a614a",
   "metadata": {},
   "outputs": [],
   "source": [
    "train_input"
   ]
  },
  {
   "cell_type": "code",
   "execution_count": null,
   "id": "59828501",
   "metadata": {},
   "outputs": [],
   "source": [
    "## 생선데이터(25, 150)도 스케일링 해주어야 한다.\n",
    "new = ([25, 150] - mean) / std"
   ]
  },
  {
   "cell_type": "code",
   "execution_count": null,
   "id": "eeb8a062",
   "metadata": {},
   "outputs": [],
   "source": [
    "new"
   ]
  },
  {
   "cell_type": "code",
   "execution_count": null,
   "id": "de68e68e",
   "metadata": {},
   "outputs": [],
   "source": [
    "plt.scatter(train_scaled[:, 0], train_scaled[:, 1])\n",
    "plt.scatter(new[0], new[1], marker = '^', color = 'r')\n",
    "\n",
    "\n",
    "\n",
    "plt.xlabel('length')\n",
    "plt.ylabel('weight')\n",
    "\n",
    "plt.show()"
   ]
  },
  {
   "cell_type": "code",
   "execution_count": null,
   "id": "c43a9e45",
   "metadata": {},
   "outputs": [],
   "source": [
    "test_scaled = (test_input - mean) / std"
   ]
  },
  {
   "cell_type": "code",
   "execution_count": null,
   "id": "4ad6fd85",
   "metadata": {},
   "outputs": [],
   "source": [
    "kn.fit(train_scaled, train_target)"
   ]
  },
  {
   "cell_type": "code",
   "execution_count": null,
   "id": "adfeed04",
   "metadata": {},
   "outputs": [],
   "source": [
    "kn.score(test_scaled, test_target)"
   ]
  },
  {
   "cell_type": "code",
   "execution_count": null,
   "id": "4b480035",
   "metadata": {},
   "outputs": [],
   "source": [
    "kn.predict([new])"
   ]
  },
  {
   "cell_type": "code",
   "execution_count": null,
   "id": "9e63a2a2",
   "metadata": {},
   "outputs": [],
   "source": [
    "distances, indexs = kn.kneighbors([new])\n",
    "plt.scatter(train_scaled[:, 0], train_scaled[:, 1])\n",
    "plt.scatter(new[0], new[1], marker = '^')\n",
    "plt.scatter(train_scaled[indexs, 0], train_scaled[indexs, 1], marker = 'D')\n",
    "\n",
    "plt.xlabel('length')\n",
    "plt.ylabel('weight')\n",
    "plt.show()"
   ]
  },
  {
   "cell_type": "markdown",
   "id": "ef2ad6dc",
   "metadata": {},
   "source": [
    "## 붓꽃(iris) 품종 분류 분석"
   ]
  },
  {
   "cell_type": "code",
   "execution_count": null,
   "id": "412f2ac4",
   "metadata": {},
   "outputs": [],
   "source": [
    "from sklearn.datasets import load_iris"
   ]
  },
  {
   "cell_type": "code",
   "execution_count": null,
   "id": "383380e2",
   "metadata": {},
   "outputs": [],
   "source": [
    "iris = load_iris()"
   ]
  },
  {
   "cell_type": "code",
   "execution_count": null,
   "id": "58af3010",
   "metadata": {},
   "outputs": [],
   "source": [
    "# Bunch 클래스 객체는 파이썬의 딕셔너리와 비슷하다.\n",
    "iris"
   ]
  },
  {
   "cell_type": "code",
   "execution_count": null,
   "id": "6bd702f8",
   "metadata": {},
   "outputs": [],
   "source": [
    "print('iris의 키 : \\n', iris.keys())"
   ]
  },
  {
   "cell_type": "code",
   "execution_count": null,
   "id": "52128558",
   "metadata": {},
   "outputs": [],
   "source": [
    "print(iris['DESCR'][:193] + '\\n')"
   ]
  },
  {
   "cell_type": "code",
   "execution_count": null,
   "id": "c2878596",
   "metadata": {},
   "outputs": [],
   "source": [
    "# 데이터프레임으로 변환하여 내용 확인\n",
    "df = pd.DataFrame(iris.data, columns = iris.feature_names)\n",
    "sy = pd.Series(iris.target, dtype = 'category')\n",
    "sy = sy.cat.rename_categories(iris.target_names)\n",
    "df['species'] = sy"
   ]
  },
  {
   "cell_type": "code",
   "execution_count": null,
   "id": "7c2493bb",
   "metadata": {},
   "outputs": [],
   "source": [
    "df.tail()"
   ]
  },
  {
   "cell_type": "code",
   "execution_count": null,
   "id": "a558b9d4",
   "metadata": {},
   "outputs": [],
   "source": [
    "iris['data'].shape"
   ]
  },
  {
   "cell_type": "code",
   "execution_count": null,
   "id": "271a6ca0",
   "metadata": {},
   "outputs": [],
   "source": [
    "iris['target'].shape"
   ]
  },
  {
   "cell_type": "markdown",
   "id": "42d0104a",
   "metadata": {},
   "source": [
    "### 훈련 데이터와 테스트 데이터 분리\n",
    "- 훈련 데이터 : 머신러닝 모델을 만들 때 사용\n",
    "- 테스트 데이터(테스트세드, 홀드아웃세트) : 모델이 얼마나 잘 작동하는지 측정하는데 사용"
   ]
  },
  {
   "cell_type": "code",
   "execution_count": null,
   "id": "98b488fe",
   "metadata": {},
   "outputs": [],
   "source": [
    "pd.DataFrame(x_train, columns = iris.feature_names)"
   ]
  },
  {
   "cell_type": "code",
   "execution_count": null,
   "id": "933982a2",
   "metadata": {},
   "outputs": [],
   "source": [
    "df = pd.DataFrame(x_train, columns = iris.feature_names)"
   ]
  },
  {
   "cell_type": "code",
   "execution_count": null,
   "id": "e44273a3",
   "metadata": {},
   "outputs": [],
   "source": [
    "from sklearn.model_selection import train_test_split\n",
    "x_train, x_test, y_train, y_test = train_test_split(iris['data'], iris['target'], random_state = 0)"
   ]
  },
  {
   "cell_type": "code",
   "execution_count": null,
   "id": "ab2beea0",
   "metadata": {},
   "outputs": [],
   "source": [
    "print('x_train 크기 : ', x_train.shape)\n",
    "print('y_train 크기 : ', y_train.shape)"
   ]
  },
  {
   "cell_type": "code",
   "execution_count": null,
   "id": "1657f6d0",
   "metadata": {},
   "outputs": [],
   "source": [
    "print('x_test 크기 : ', x_test.shape)\n",
    "print('y_test 크기 : ', y_test.shape)"
   ]
  },
  {
   "cell_type": "markdown",
   "id": "12c6df64",
   "metadata": {},
   "source": [
    "### 데이터 살펴보기"
   ]
  },
  {
   "cell_type": "code",
   "execution_count": null,
   "id": "93db8a46",
   "metadata": {},
   "outputs": [],
   "source": [
    "y_train"
   ]
  },
  {
   "cell_type": "code",
   "execution_count": null,
   "id": "56bc9291",
   "metadata": {},
   "outputs": [],
   "source": [
    "pd.plotting.scatter_matrix(df, c = y_train, figsize = (15, 15), \n",
    "                        marker = 'o', hist_kwds={'bins' : 20}, s = 60, alpha = .8)"
   ]
  },
  {
   "cell_type": "markdown",
   "id": "484fb863",
   "metadata": {},
   "source": [
    "### knn 최근접 이웃 알고리즘(단점 : 적절한 k의 선택이 필요하다)\n",
    "- k가 너무 작을 때 : Overfitting(과대적합)\n",
    "- k가 너무 클 때 : Underfitting(과소적합)\n",
    "- 모델이 복잡할수록 훈련 데이터에 대해서는 더 정확하게 예측한다.\n",
    "- 우리가 찾으려는 모델은 일반화 성능이 최대가 되는 최적점에 있는 모델이다."
   ]
  },
  {
   "cell_type": "code",
   "execution_count": null,
   "id": "b9255ed7",
   "metadata": {},
   "outputs": [],
   "source": [
    "!pip install mglearn"
   ]
  },
  {
   "cell_type": "code",
   "execution_count": null,
   "id": "82b82c56",
   "metadata": {},
   "outputs": [],
   "source": [
    "import mglearn"
   ]
  },
  {
   "cell_type": "code",
   "execution_count": null,
   "id": "6dfb3cb7",
   "metadata": {},
   "outputs": [],
   "source": [
    "from sklearn.neighbors import KNeighborsClassifier\n",
    "knn = KNeighborsClassifier(n_neighbors = 1)"
   ]
  },
  {
   "cell_type": "code",
   "execution_count": null,
   "id": "7529ff15",
   "metadata": {},
   "outputs": [],
   "source": [
    "knn.fit(x_train, y_train)"
   ]
  },
  {
   "cell_type": "code",
   "execution_count": null,
   "id": "6dca88aa",
   "metadata": {},
   "outputs": [],
   "source": [
    "print('훈련세트의 정확도 : {:.2f}'.format(knn.score(x_train, y_train)))"
   ]
  },
  {
   "cell_type": "markdown",
   "id": "36067f78",
   "metadata": {},
   "source": [
    "### 예측하기"
   ]
  },
  {
   "cell_type": "code",
   "execution_count": null,
   "id": "7b659864",
   "metadata": {},
   "outputs": [],
   "source": [
    "x_new = np.array([[5, 2.9, 1, 0.2]]) ## 가상의 아이리스 데이터\n",
    "print('x_new.shape : ', x_new.shape)"
   ]
  },
  {
   "cell_type": "code",
   "execution_count": null,
   "id": "b2978b14",
   "metadata": {},
   "outputs": [],
   "source": [
    "prediction = knn.predict(x_new)\n",
    "print('예측 : ', prediction)\n",
    "print('예측한 타깃의 이름 : ', iris['target_names'][prediction])"
   ]
  },
  {
   "cell_type": "markdown",
   "id": "3b55a50e",
   "metadata": {},
   "source": [
    "### 모델 평가하기"
   ]
  },
  {
   "cell_type": "code",
   "execution_count": null,
   "id": "58137cba",
   "metadata": {},
   "outputs": [],
   "source": [
    "y_pred = knn.predict(x_test)"
   ]
  },
  {
   "cell_type": "code",
   "execution_count": null,
   "id": "4df88f21",
   "metadata": {},
   "outputs": [],
   "source": [
    "print('테스트 데이터에 대한 예측값 : \\n', y_pred)"
   ]
  },
  {
   "cell_type": "code",
   "execution_count": null,
   "id": "209526ab",
   "metadata": {},
   "outputs": [],
   "source": [
    "for i in range(0, len(y_pred)):\n",
    "    yhat = y_pred[i]\n",
    "    print('{} : {}'.format(x_test[i], iris['target_names'][yhat]))"
   ]
  },
  {
   "cell_type": "code",
   "execution_count": null,
   "id": "573b2228",
   "metadata": {},
   "outputs": [],
   "source": [
    "print('테스트 데이터의 정확도 : {:.2f}'.format(knn.score(x_test, y_test)))"
   ]
  },
  {
   "cell_type": "code",
   "execution_count": null,
   "id": "84c162ce",
   "metadata": {},
   "outputs": [],
   "source": [
    "print('테스트 데이터의 정확도 : {:.2f}'.format(np.mean(y_pred == y_test)))"
   ]
  },
  {
   "cell_type": "code",
   "execution_count": null,
   "id": "5db77d00",
   "metadata": {},
   "outputs": [],
   "source": [
    "y_pred == y_test"
   ]
  },
  {
   "cell_type": "code",
   "execution_count": null,
   "id": "4b381def",
   "metadata": {},
   "outputs": [],
   "source": [
    "y_pred"
   ]
  },
  {
   "cell_type": "code",
   "execution_count": null,
   "id": "350d7508",
   "metadata": {},
   "outputs": [],
   "source": [
    "y_test"
   ]
  },
  {
   "cell_type": "markdown",
   "id": "0ed76f43",
   "metadata": {},
   "source": [
    "- 사이킷런 패키지는 metrics 서브패키지에서 다음처럼 다양한 분류용 성능평가 명령을 제공한다.\n",
    "    1. confusion_matrix(y_true, y_pred)\n",
    "    2. accuracy_score(y_true, y_pred)\n",
    "    3. precision_score(y_true, y_pred)\n",
    "    4. \n",
    "    5. fbeta_score(y_true, y_pred, beta)\n",
    "    6."
   ]
  },
  {
   "cell_type": "markdown",
   "id": "acde2b4a",
   "metadata": {},
   "source": [
    "### 최적의 k값 찾기"
   ]
  },
  {
   "cell_type": "code",
   "execution_count": null,
   "id": "e7a45dbb",
   "metadata": {},
   "outputs": [],
   "source": [
    "from sklearn.metrics import accuracy_score"
   ]
  },
  {
   "cell_type": "code",
   "execution_count": null,
   "id": "5f668681",
   "metadata": {},
   "outputs": [],
   "source": [
    "# 1 ~ 100\n",
    "\n",
    "ks = 100\n",
    "mean_acc = np.zeros((ks - 1))\n",
    "\n",
    "for k in range(1, ks):\n",
    "    clf = KNeighborsClassifier(n_neighbors = k).fit(x_train, y_train)\n",
    "    yhat = clf.predict(x_test)\n",
    "    mean_acc[k-1] = accuracy_score(y_test, yhat)\n",
    "    \n",
    "## y_test : 예측값, y_hat : 실제정답\n",
    "\n",
    "print(mean_acc)"
   ]
  },
  {
   "cell_type": "code",
   "execution_count": null,
   "id": "35af3211",
   "metadata": {},
   "outputs": [],
   "source": [
    "# 시각화\n",
    "plt.plot(range(1, ks), mean_acc, 'g')\n",
    "\n",
    "plt.xlabel('Number of Neighbors(k)')\n",
    "plt.ylabel('Accuracy')\n",
    "plt.tight_layout()\n",
    "\n",
    "plt.show()"
   ]
  },
  {
   "cell_type": "code",
   "execution_count": null,
   "id": "f2ebb135",
   "metadata": {},
   "outputs": [],
   "source": [
    "max(mean_acc)"
   ]
  },
  {
   "cell_type": "markdown",
   "id": "d35a3cf0",
   "metadata": {},
   "source": [
    "## 와인 데이터\n",
    "- 와인의 화학 성분을 이용하여 와인의 종류를 예측하기 위한 데이터셋"
   ]
  },
  {
   "cell_type": "code",
   "execution_count": null,
   "id": "f1733039",
   "metadata": {},
   "outputs": [],
   "source": [
    "from sklearn.datasets import load_wine"
   ]
  },
  {
   "cell_type": "code",
   "execution_count": null,
   "id": "5af3faae",
   "metadata": {},
   "outputs": [],
   "source": [
    "wine = load_wine()"
   ]
  },
  {
   "cell_type": "code",
   "execution_count": null,
   "id": "f73934a9",
   "metadata": {
    "scrolled": true
   },
   "outputs": [],
   "source": [
    "wine"
   ]
  },
  {
   "cell_type": "markdown",
   "id": "e2452ea7",
   "metadata": {},
   "source": [
    "### 데이터셋 확인"
   ]
  },
  {
   "cell_type": "code",
   "execution_count": null,
   "id": "c66abd01",
   "metadata": {},
   "outputs": [],
   "source": [
    "print('wine 데이터셋 키 : \\n', wine.keys())"
   ]
  },
  {
   "cell_type": "code",
   "execution_count": null,
   "id": "faa7870d",
   "metadata": {},
   "outputs": [],
   "source": [
    "len(wine['data'][0])  ## 특성의 개수 : 13개\n",
    "\n",
    "#   'alcohol',\n",
    "#   'malic_acid',\n",
    "#   'ash',\n",
    "#   'alcalinity_of_ash',\n",
    "#   'magnesium',\n",
    "#   'total_phenols',\n",
    "#   'flavanoids',\n",
    "#   'nonflavanoid_phenols',\n",
    "#   'proanthocyanins',\n",
    "#   'color_intensity',\n",
    "#   'hue',\n",
    "#   'od280/od315_of_diluted_wines',\n",
    "#   'proline'"
   ]
  },
  {
   "cell_type": "code",
   "execution_count": null,
   "id": "e1f5af0a",
   "metadata": {},
   "outputs": [],
   "source": [
    "## 데이터셋 구조 확인\n",
    "print(wine['DESCR'][:193] + '\\n')"
   ]
  },
  {
   "cell_type": "code",
   "execution_count": null,
   "id": "a1088204",
   "metadata": {},
   "outputs": [],
   "source": [
    "wine.feature_names"
   ]
  },
  {
   "cell_type": "code",
   "execution_count": null,
   "id": "9a4615db",
   "metadata": {},
   "outputs": [],
   "source": [
    "# 데이터프레임으로 변환하여 내용 확인\n",
    "df = pd.DataFrame(wine.data, columns = wine.feature_names)\n",
    "sy = pd.Series(wine.target, dtype = 'category')\n",
    "sy = sy.cat.rename_categories(wine.target_names)\n",
    "df['species'] = sy"
   ]
  },
  {
   "cell_type": "code",
   "execution_count": null,
   "id": "9c7a8cec",
   "metadata": {},
   "outputs": [],
   "source": [
    "df"
   ]
  },
  {
   "cell_type": "code",
   "execution_count": null,
   "id": "43f2ed38",
   "metadata": {},
   "outputs": [],
   "source": []
  },
  {
   "cell_type": "code",
   "execution_count": null,
   "id": "b806b1ee",
   "metadata": {},
   "outputs": [],
   "source": [
    "df.shape  ## 'data(13)' + 'target'"
   ]
  },
  {
   "cell_type": "markdown",
   "id": "2b2105f5",
   "metadata": {},
   "source": [
    "### 데이터셋 분리(훈련/테스트)"
   ]
  },
  {
   "cell_type": "code",
   "execution_count": null,
   "id": "621493ed",
   "metadata": {},
   "outputs": [],
   "source": [
    "from sklearn.model_selection import train_test_split\n",
    "x_train, x_test, y_train, y_test = train_test_split(wine['data'], wine['target'], random_state = 0)"
   ]
  },
  {
   "cell_type": "code",
   "execution_count": null,
   "id": "33cc0aed",
   "metadata": {},
   "outputs": [],
   "source": [
    "print('x_train 크기 : ', x_train.shape)\n",
    "print('y_train 크기 : ', y_train.shape)"
   ]
  },
  {
   "cell_type": "code",
   "execution_count": null,
   "id": "e2dc8843",
   "metadata": {},
   "outputs": [],
   "source": [
    "print('x_test 크기 : ', x_test.shape)\n",
    "print('y_test 크기 : ', y_test.shape)"
   ]
  },
  {
   "cell_type": "code",
   "execution_count": null,
   "id": "d049fa5c",
   "metadata": {},
   "outputs": [],
   "source": [
    "133/(133+45)  ## 훈련 데이터셋 비율 : 0.75 / 0.25"
   ]
  },
  {
   "cell_type": "markdown",
   "id": "6cfb387f",
   "metadata": {},
   "source": [
    "### 데이터 살펴보기"
   ]
  },
  {
   "cell_type": "code",
   "execution_count": null,
   "id": "7f5d1dd5",
   "metadata": {},
   "outputs": [],
   "source": []
  },
  {
   "cell_type": "code",
   "execution_count": null,
   "id": "f1962517",
   "metadata": {},
   "outputs": [],
   "source": []
  },
  {
   "cell_type": "code",
   "execution_count": null,
   "id": "25c0e38f",
   "metadata": {},
   "outputs": [],
   "source": []
  },
  {
   "cell_type": "code",
   "execution_count": null,
   "id": "2206c4df",
   "metadata": {},
   "outputs": [],
   "source": []
  },
  {
   "cell_type": "code",
   "execution_count": null,
   "id": "62c03a45",
   "metadata": {},
   "outputs": [],
   "source": []
  },
  {
   "cell_type": "code",
   "execution_count": null,
   "id": "e7d96b63",
   "metadata": {},
   "outputs": [],
   "source": []
  },
  {
   "cell_type": "markdown",
   "id": "57f8aded",
   "metadata": {},
   "source": [
    "## 유방암 진단 데이터\n",
    "- 유방암(breast cancer) 진단 데이터 셋\n",
    "- 유방암 진단 사진으로부터 측정한 종양(tumar)의 특정값을 사용하여 종양이 양성(bengin)인지 악성(malignant)인지를 판별하는 예제"
   ]
  },
  {
   "cell_type": "code",
   "execution_count": null,
   "id": "4ddc7330",
   "metadata": {},
   "outputs": [],
   "source": [
    "from sklearn.datasets import load_breast_cancer"
   ]
  },
  {
   "cell_type": "code",
   "execution_count": null,
   "id": "2af7e6c0",
   "metadata": {},
   "outputs": [],
   "source": [
    "cancer = load_breast_cancer()"
   ]
  },
  {
   "cell_type": "code",
   "execution_count": null,
   "id": "c880cb09",
   "metadata": {
    "scrolled": true
   },
   "outputs": [],
   "source": [
    "cancer"
   ]
  }
 ],
 "metadata": {
  "kernelspec": {
   "display_name": "Python 3 (ipykernel)",
   "language": "python",
   "name": "python3"
  },
  "language_info": {
   "codemirror_mode": {
    "name": "ipython",
    "version": 3
   },
   "file_extension": ".py",
   "mimetype": "text/x-python",
   "name": "python",
   "nbconvert_exporter": "python",
   "pygments_lexer": "ipython3",
   "version": "3.9.7"
  },
  "toc": {
   "base_numbering": 1,
   "nav_menu": {},
   "number_sections": true,
   "sideBar": true,
   "skip_h1_title": false,
   "title_cell": "Table of Contents",
   "title_sidebar": "Contents",
   "toc_cell": false,
   "toc_position": {
    "height": "541.6px",
    "left": "488px",
    "top": "109.525px",
    "width": "303.825px"
   },
   "toc_section_display": true,
   "toc_window_display": true
  }
 },
 "nbformat": 4,
 "nbformat_minor": 5
}
